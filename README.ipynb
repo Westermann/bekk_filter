{
 "cells": [
  {
   "cell_type": "markdown",
   "metadata": {},
   "source": [
    "# R/C Implementation of a Scalar Bekk Model"
   ]
  },
  {
   "cell_type": "markdown",
   "metadata": {},
   "source": [
    "## Introduction"
   ]
  },
  {
   "cell_type": "markdown",
   "metadata": {},
   "source": [
    "## Implementation Notes\n",
    "### Parameter convention:\n",
    "The model uses two parameters:\n",
    "* $\\alpha$: the factor of the lagged $y^2$\n",
    "* $\\beta$: the factor of the lagged sigma\n",
    "However, since the optimisation libraries only support box constraints, a trick must be used to keep not only $\\alpha$ and $\\beta$ between 0 and 1, but also $0 \\leq \\alpha+\\beta \\leq 1$. The way to do this, is to feed two parameters into the filter, $\\gamma$ and $\\lambda$ such that:\n",
    "$$\n",
    "\\alpha = (1-\\lambda) * \\gamma \\\\\n",
    "\\beta = (1-\\lambda) * (1 - \\gamma)\n",
    "$$\n",
    "and then we constrain these two parameters to $(0,1)$. This results in the overall step for an update looking as follows:\n",
    "$$\n",
    "S_t = \\lambda C + \\sum_{k=1}^K \\frac{\\alpha}{k} y_{t-k}y_{t-k}^{T} + \\frac{\\beta}{k} S_{t-k}\n",
    "$$"
   ]
  },
  {
   "cell_type": "markdown",
   "metadata": {},
   "source": [
    "### Sigma Initialisation\n",
    "$\\S_0$ is initialized at the unconditional covariance, so is $C$. Both are then cholesky decomposed for the actual updates."
   ]
  },
  {
   "cell_type": "markdown",
   "metadata": {},
   "source": [
    "## Examples"
   ]
  },
  {
   "cell_type": "code",
   "execution_count": 1,
   "metadata": {
    "collapsed": true
   },
   "outputs": [],
   "source": [
    "dyn.load('./C/bekk_log_lik.so')\n",
    "source('./R/bekk_model.R')"
   ]
  },
  {
   "cell_type": "code",
   "execution_count": 2,
   "metadata": {
    "collapsed": true
   },
   "outputs": [],
   "source": [
    "y <- read.csv('../ganter/data/Problemsets Data (Tickers)/all.csv')\n",
    "y <- apply(y,c(2),diff)\n",
    "y[is.na(y)] <- 0"
   ]
  },
  {
   "cell_type": "markdown",
   "metadata": {},
   "source": [
    "Calculating a single filter pass with given parameters"
   ]
  },
  {
   "cell_type": "code",
   "execution_count": 3,
   "metadata": {
    "collapsed": false
   },
   "outputs": [
    {
     "data": {
      "text/html": [
       "<dl>\n",
       "\t<dt>$Sig</dt>\n",
       "\t\t<dd><ol class=list-inline>\n",
       "\t<li>0.495751776598632</li>\n",
       "\t<li>0.446379824489283</li>\n",
       "\t<li>0.394272254657192</li>\n",
       "\t<li>0.343286914947431</li>\n",
       "\t<li>0.302556597629017</li>\n",
       "\t<li>0.272412594729143</li>\n",
       "\t<li>0.282193793295598</li>\n",
       "\t<li>0.262669407472959</li>\n",
       "\t<li>0.294868248701257</li>\n",
       "\t<li>0.267540147094004</li>\n",
       "\t<li>0.302671211851009</li>\n",
       "\t<li>0.294232817263732</li>\n",
       "\t<li>0.235337263902397</li>\n",
       "\t<li>0.206566554820125</li>\n",
       "\t<li>0.168336467248968</li>\n",
       "\t<li>0.143551601324017</li>\n",
       "\t<li>0.179900074827496</li>\n",
       "\t<li>0.153863261048159</li>\n",
       "\t<li>0.143696242672248</li>\n",
       "\t<li>0.116386857655401</li>\n",
       "\t<li>0.0170050283198992</li>\n",
       "\t<li>0.0063697846804774</li>\n",
       "\t<li>0.000909783484123042</li>\n",
       "\t<li>0.010333043603412</li>\n",
       "\t<li>0.00726581969109658</li>\n",
       "\t<li>0.00557036130047021</li>\n",
       "\t<li>7.43212860363171e-05</li>\n",
       "\t<li>0.00293343257362651</li>\n",
       "\t<li>-0.0135197771933031</li>\n",
       "\t<li>-0.0123839306487655</li>\n",
       "\t<li>0</li>\n",
       "\t<li>0</li>\n",
       "\t<li>0</li>\n",
       "\t<li>0</li>\n",
       "\t<li>0</li>\n",
       "\t<li>0</li>\n",
       "\t<li>0</li>\n",
       "\t<li>0</li>\n",
       "\t<li>0</li>\n",
       "\t<li>0</li>\n",
       "\t<li>0.439989126597056</li>\n",
       "\t<li>0.373514473769156</li>\n",
       "\t<li>0.319007623781407</li>\n",
       "\t<li>0.279875322174177</li>\n",
       "\t<li>0.282476261825145</li>\n",
       "\t<li>0.247076562483413</li>\n",
       "\t<li>0.227160236052101</li>\n",
       "\t<li>0.201590609059395</li>\n",
       "\t<li>0.183933120513414</li>\n",
       "\t<li>0.217583070547911</li>\n",
       "\t<li>0.0374396944746357</li>\n",
       "\t<li>0.0256387441715296</li>\n",
       "\t<li>0.0243973534854587</li>\n",
       "\t<li>0.0379473989739885</li>\n",
       "\t<li>0.0445464703478192</li>\n",
       "\t<li>0.0401950874477483</li>\n",
       "\t<li>0.0273224487848485</li>\n",
       "\t<li>0.0218896120075953</li>\n",
       "\t<li>0.0218657583784606</li>\n",
       "\t<li>0.0425093109162264</li>\n",
       "\t<li>0</li>\n",
       "\t<li>0</li>\n",
       "\t<li>0</li>\n",
       "\t<li>0</li>\n",
       "\t<li>0</li>\n",
       "\t<li>0</li>\n",
       "\t<li>0</li>\n",
       "\t<li>0</li>\n",
       "\t<li>0</li>\n",
       "\t<li>0</li>\n",
       "\t<li>0</li>\n",
       "\t<li>0</li>\n",
       "\t<li>0</li>\n",
       "\t<li>0</li>\n",
       "\t<li>0</li>\n",
       "\t<li>0</li>\n",
       "\t<li>0</li>\n",
       "\t<li>0</li>\n",
       "\t<li>0</li>\n",
       "\t<li>0</li>\n",
       "\t<li>0.311270381329938</li>\n",
       "\t<li>0.263038920304249</li>\n",
       "\t<li>0.224492243672158</li>\n",
       "\t<li>0.204981403277502</li>\n",
       "\t<li>0.180473551687498</li>\n",
       "\t<li>0.162849615136603</li>\n",
       "\t<li>0.150562993683369</li>\n",
       "\t<li>0.140751210377577</li>\n",
       "\t<li>0.135357510753981</li>\n",
       "\t<li>0.132053270620173</li>\n",
       "</ol>\n",
       "</dd>\n",
       "\t<dt>$eps</dt>\n",
       "\t\t<dd><ol class=list-inline>\n",
       "\t<li>0</li>\n",
       "\t<li>1.20973433469542</li>\n",
       "\t<li>0.55799006245388</li>\n",
       "\t<li>0.174777998774551</li>\n",
       "\t<li>0.132209974310485</li>\n",
       "\t<li>2.49621351272732</li>\n",
       "\t<li>-0.956789293084043</li>\n",
       "\t<li>-3.3121443733015</li>\n",
       "\t<li>0.37304457324411</li>\n",
       "\t<li>1.45772888381858</li>\n",
       "\t<li>0</li>\n",
       "\t<li>-0.872642332033267</li>\n",
       "\t<li>1.155722051552</li>\n",
       "\t<li>-2.77305009615035</li>\n",
       "\t<li>-0.893001622085503</li>\n",
       "\t<li>1.66612951412164</li>\n",
       "\t<li>0.273487413552963</li>\n",
       "\t<li>0.990221396075413</li>\n",
       "\t<li>-3.93405549530534</li>\n",
       "\t<li>-1.46914685639926</li>\n",
       "\t<li>0</li>\n",
       "\t<li>-0.286392194893456</li>\n",
       "\t<li>1.56483264048639</li>\n",
       "\t<li>-0.373575110153343</li>\n",
       "\t<li>-0.505212773303212</li>\n",
       "\t<li>-0.803649628269736</li>\n",
       "\t<li>-0.38126391243316</li>\n",
       "\t<li>0.980747445518808</li>\n",
       "\t<li>-1.10032618618019</li>\n",
       "\t<li>6.89499646336733</li>\n",
       "</ol>\n",
       "</dd>\n",
       "\t<dt>$loglik</dt>\n",
       "\t\t<dd>-40.0249606926448</dd>\n",
       "</dl>\n"
      ],
      "text/latex": [
       "\\begin{description}\n",
       "\\item[\\$Sig] \\begin{enumerate*}\n",
       "\\item 0.495751776598632\n",
       "\\item 0.446379824489283\n",
       "\\item 0.394272254657192\n",
       "\\item 0.343286914947431\n",
       "\\item 0.302556597629017\n",
       "\\item 0.272412594729143\n",
       "\\item 0.282193793295598\n",
       "\\item 0.262669407472959\n",
       "\\item 0.294868248701257\n",
       "\\item 0.267540147094004\n",
       "\\item 0.302671211851009\n",
       "\\item 0.294232817263732\n",
       "\\item 0.235337263902397\n",
       "\\item 0.206566554820125\n",
       "\\item 0.168336467248968\n",
       "\\item 0.143551601324017\n",
       "\\item 0.179900074827496\n",
       "\\item 0.153863261048159\n",
       "\\item 0.143696242672248\n",
       "\\item 0.116386857655401\n",
       "\\item 0.0170050283198992\n",
       "\\item 0.0063697846804774\n",
       "\\item 0.000909783484123042\n",
       "\\item 0.010333043603412\n",
       "\\item 0.00726581969109658\n",
       "\\item 0.00557036130047021\n",
       "\\item 7.43212860363171e-05\n",
       "\\item 0.00293343257362651\n",
       "\\item -0.0135197771933031\n",
       "\\item -0.0123839306487655\n",
       "\\item 0\n",
       "\\item 0\n",
       "\\item 0\n",
       "\\item 0\n",
       "\\item 0\n",
       "\\item 0\n",
       "\\item 0\n",
       "\\item 0\n",
       "\\item 0\n",
       "\\item 0\n",
       "\\item 0.439989126597056\n",
       "\\item 0.373514473769156\n",
       "\\item 0.319007623781407\n",
       "\\item 0.279875322174177\n",
       "\\item 0.282476261825145\n",
       "\\item 0.247076562483413\n",
       "\\item 0.227160236052101\n",
       "\\item 0.201590609059395\n",
       "\\item 0.183933120513414\n",
       "\\item 0.217583070547911\n",
       "\\item 0.0374396944746357\n",
       "\\item 0.0256387441715296\n",
       "\\item 0.0243973534854587\n",
       "\\item 0.0379473989739885\n",
       "\\item 0.0445464703478192\n",
       "\\item 0.0401950874477483\n",
       "\\item 0.0273224487848485\n",
       "\\item 0.0218896120075953\n",
       "\\item 0.0218657583784606\n",
       "\\item 0.0425093109162264\n",
       "\\item 0\n",
       "\\item 0\n",
       "\\item 0\n",
       "\\item 0\n",
       "\\item 0\n",
       "\\item 0\n",
       "\\item 0\n",
       "\\item 0\n",
       "\\item 0\n",
       "\\item 0\n",
       "\\item 0\n",
       "\\item 0\n",
       "\\item 0\n",
       "\\item 0\n",
       "\\item 0\n",
       "\\item 0\n",
       "\\item 0\n",
       "\\item 0\n",
       "\\item 0\n",
       "\\item 0\n",
       "\\item 0.311270381329938\n",
       "\\item 0.263038920304249\n",
       "\\item 0.224492243672158\n",
       "\\item 0.204981403277502\n",
       "\\item 0.180473551687498\n",
       "\\item 0.162849615136603\n",
       "\\item 0.150562993683369\n",
       "\\item 0.140751210377577\n",
       "\\item 0.135357510753981\n",
       "\\item 0.132053270620173\n",
       "\\end{enumerate*}\n",
       "\n",
       "\\item[\\$eps] \\begin{enumerate*}\n",
       "\\item 0\n",
       "\\item 1.20973433469542\n",
       "\\item 0.55799006245388\n",
       "\\item 0.174777998774551\n",
       "\\item 0.132209974310485\n",
       "\\item 2.49621351272732\n",
       "\\item -0.956789293084043\n",
       "\\item -3.3121443733015\n",
       "\\item 0.37304457324411\n",
       "\\item 1.45772888381858\n",
       "\\item 0\n",
       "\\item -0.872642332033267\n",
       "\\item 1.155722051552\n",
       "\\item -2.77305009615035\n",
       "\\item -0.893001622085503\n",
       "\\item 1.66612951412164\n",
       "\\item 0.273487413552963\n",
       "\\item 0.990221396075413\n",
       "\\item -3.93405549530534\n",
       "\\item -1.46914685639926\n",
       "\\item 0\n",
       "\\item -0.286392194893456\n",
       "\\item 1.56483264048639\n",
       "\\item -0.373575110153343\n",
       "\\item -0.505212773303212\n",
       "\\item -0.803649628269736\n",
       "\\item -0.38126391243316\n",
       "\\item 0.980747445518808\n",
       "\\item -1.10032618618019\n",
       "\\item 6.89499646336733\n",
       "\\end{enumerate*}\n",
       "\n",
       "\\item[\\$loglik] -40.0249606926448\n",
       "\\end{description}\n"
      ],
      "text/markdown": [
       "$Sig\n",
       ":   1. 0.495751776598632\n",
       "2. 0.446379824489283\n",
       "3. 0.394272254657192\n",
       "4. 0.343286914947431\n",
       "5. 0.302556597629017\n",
       "6. 0.272412594729143\n",
       "7. 0.282193793295598\n",
       "8. 0.262669407472959\n",
       "9. 0.294868248701257\n",
       "10. 0.267540147094004\n",
       "11. 0.302671211851009\n",
       "12. 0.294232817263732\n",
       "13. 0.235337263902397\n",
       "14. 0.206566554820125\n",
       "15. 0.168336467248968\n",
       "16. 0.143551601324017\n",
       "17. 0.179900074827496\n",
       "18. 0.153863261048159\n",
       "19. 0.143696242672248\n",
       "20. 0.116386857655401\n",
       "21. 0.0170050283198992\n",
       "22. 0.0063697846804774\n",
       "23. 0.000909783484123042\n",
       "24. 0.010333043603412\n",
       "25. 0.00726581969109658\n",
       "26. 0.00557036130047021\n",
       "27. 7.43212860363171e-05\n",
       "28. 0.00293343257362651\n",
       "29. -0.0135197771933031\n",
       "30. -0.0123839306487655\n",
       "31. 0\n",
       "32. 0\n",
       "33. 0\n",
       "34. 0\n",
       "35. 0\n",
       "36. 0\n",
       "37. 0\n",
       "38. 0\n",
       "39. 0\n",
       "40. 0\n",
       "41. 0.439989126597056\n",
       "42. 0.373514473769156\n",
       "43. 0.319007623781407\n",
       "44. 0.279875322174177\n",
       "45. 0.282476261825145\n",
       "46. 0.247076562483413\n",
       "47. 0.227160236052101\n",
       "48. 0.201590609059395\n",
       "49. 0.183933120513414\n",
       "50. 0.217583070547911\n",
       "51. 0.0374396944746357\n",
       "52. 0.0256387441715296\n",
       "53. 0.0243973534854587\n",
       "54. 0.0379473989739885\n",
       "55. 0.0445464703478192\n",
       "56. 0.0401950874477483\n",
       "57. 0.0273224487848485\n",
       "58. 0.0218896120075953\n",
       "59. 0.0218657583784606\n",
       "60. 0.0425093109162264\n",
       "61. 0\n",
       "62. 0\n",
       "63. 0\n",
       "64. 0\n",
       "65. 0\n",
       "66. 0\n",
       "67. 0\n",
       "68. 0\n",
       "69. 0\n",
       "70. 0\n",
       "71. 0\n",
       "72. 0\n",
       "73. 0\n",
       "74. 0\n",
       "75. 0\n",
       "76. 0\n",
       "77. 0\n",
       "78. 0\n",
       "79. 0\n",
       "80. 0\n",
       "81. 0.311270381329938\n",
       "82. 0.263038920304249\n",
       "83. 0.224492243672158\n",
       "84. 0.204981403277502\n",
       "85. 0.180473551687498\n",
       "86. 0.162849615136603\n",
       "87. 0.150562993683369\n",
       "88. 0.140751210377577\n",
       "89. 0.135357510753981\n",
       "90. 0.132053270620173\n",
       "\n",
       "\n",
       "\n",
       "$eps\n",
       ":   1. 0\n",
       "2. 1.20973433469542\n",
       "3. 0.55799006245388\n",
       "4. 0.174777998774551\n",
       "5. 0.132209974310485\n",
       "6. 2.49621351272732\n",
       "7. -0.956789293084043\n",
       "8. -3.3121443733015\n",
       "9. 0.37304457324411\n",
       "10. 1.45772888381858\n",
       "11. 0\n",
       "12. -0.872642332033267\n",
       "13. 1.155722051552\n",
       "14. -2.77305009615035\n",
       "15. -0.893001622085503\n",
       "16. 1.66612951412164\n",
       "17. 0.273487413552963\n",
       "18. 0.990221396075413\n",
       "19. -3.93405549530534\n",
       "20. -1.46914685639926\n",
       "21. 0\n",
       "22. -0.286392194893456\n",
       "23. 1.56483264048639\n",
       "24. -0.373575110153343\n",
       "25. -0.505212773303212\n",
       "26. -0.803649628269736\n",
       "27. -0.38126391243316\n",
       "28. 0.980747445518808\n",
       "29. -1.10032618618019\n",
       "30. 6.89499646336733\n",
       "\n",
       "\n",
       "\n",
       "$loglik\n",
       ":   -40.0249606926448\n",
       "\n",
       "\n"
      ],
      "text/plain": [
       "$Sig\n",
       " [1]  4.957518e-01  4.463798e-01  3.942723e-01  3.432869e-01  3.025566e-01\n",
       " [6]  2.724126e-01  2.821938e-01  2.626694e-01  2.948682e-01  2.675401e-01\n",
       "[11]  3.026712e-01  2.942328e-01  2.353373e-01  2.065666e-01  1.683365e-01\n",
       "[16]  1.435516e-01  1.799001e-01  1.538633e-01  1.436962e-01  1.163869e-01\n",
       "[21]  1.700503e-02  6.369785e-03  9.097835e-04  1.033304e-02  7.265820e-03\n",
       "[26]  5.570361e-03  7.432129e-05  2.933433e-03 -1.351978e-02 -1.238393e-02\n",
       "[31]  0.000000e+00  0.000000e+00  0.000000e+00  0.000000e+00  0.000000e+00\n",
       "[36]  0.000000e+00  0.000000e+00  0.000000e+00  0.000000e+00  0.000000e+00\n",
       "[41]  4.399891e-01  3.735145e-01  3.190076e-01  2.798753e-01  2.824763e-01\n",
       "[46]  2.470766e-01  2.271602e-01  2.015906e-01  1.839331e-01  2.175831e-01\n",
       "[51]  3.743969e-02  2.563874e-02  2.439735e-02  3.794740e-02  4.454647e-02\n",
       "[56]  4.019509e-02  2.732245e-02  2.188961e-02  2.186576e-02  4.250931e-02\n",
       "[61]  0.000000e+00  0.000000e+00  0.000000e+00  0.000000e+00  0.000000e+00\n",
       "[66]  0.000000e+00  0.000000e+00  0.000000e+00  0.000000e+00  0.000000e+00\n",
       "[71]  0.000000e+00  0.000000e+00  0.000000e+00  0.000000e+00  0.000000e+00\n",
       "[76]  0.000000e+00  0.000000e+00  0.000000e+00  0.000000e+00  0.000000e+00\n",
       "[81]  3.112704e-01  2.630389e-01  2.244922e-01  2.049814e-01  1.804736e-01\n",
       "[86]  1.628496e-01  1.505630e-01  1.407512e-01  1.353575e-01  1.320533e-01\n",
       "\n",
       "$eps\n",
       " [1]  0.0000000  1.2097343  0.5579901  0.1747780  0.1322100  2.4962135\n",
       " [7] -0.9567893 -3.3121444  0.3730446  1.4577289  0.0000000 -0.8726423\n",
       "[13]  1.1557221 -2.7730501 -0.8930016  1.6661295  0.2734874  0.9902214\n",
       "[19] -3.9340555 -1.4691469  0.0000000 -0.2863922  1.5648326 -0.3735751\n",
       "[25] -0.5052128 -0.8036496 -0.3812639  0.9807474 -1.1003262  6.8949965\n",
       "\n",
       "$loglik\n",
       "[1] -40.02496\n"
      ]
     },
     "metadata": {},
     "output_type": "display_data"
    }
   ],
   "source": [
    "scalar.bekk.filter(as.matrix(y[1:10,2:4]),c(0.9,0.5),k=1)"
   ]
  },
  {
   "cell_type": "markdown",
   "metadata": {},
   "source": [
    "Fit model with different numbers of lags"
   ]
  },
  {
   "cell_type": "code",
   "execution_count": 4,
   "metadata": {
    "collapsed": false
   },
   "outputs": [
    {
     "name": "stdout",
     "output_type": "stream",
     "text": [
      "[1] \"With only 1 lag.\"\n"
     ]
    },
    {
     "data": {
      "text/html": [
       "<dl>\n",
       "\t<dt>$param</dt>\n",
       "\t\t<dd><dl class=dl-horizontal>\n",
       "\t<dt>alpha</dt>\n",
       "\t\t<dd>0.0195936898315069</dd>\n",
       "\t<dt>beta</dt>\n",
       "\t\t<dd>0.103380520796255</dd>\n",
       "</dl>\n",
       "</dd>\n",
       "\t<dt>$obj</dt>\n",
       "\t\t<dd>-18695.4843795485</dd>\n",
       "</dl>\n"
      ],
      "text/plain": [
       "$param\n",
       "     alpha       beta \n",
       "0.01959369 0.10338052 \n",
       "\n",
       "$obj\n",
       "[1] -18695.48\n"
      ]
     },
     "metadata": {},
     "output_type": "display_data"
    },
    {
     "name": "stdout",
     "output_type": "stream",
     "text": [
      "[1] \"With 3 lags\"\n"
     ]
    },
    {
     "data": {
      "text/html": [
       "<dl>\n",
       "\t<dt>$param</dt>\n",
       "\t\t<dd><dl class=dl-horizontal>\n",
       "\t<dt>alpha</dt>\n",
       "\t\t<dd>0.0579659195799589</dd>\n",
       "\t<dt>beta</dt>\n",
       "\t\t<dd>0.323413397496665</dd>\n",
       "</dl>\n",
       "</dd>\n",
       "\t<dt>$obj</dt>\n",
       "\t\t<dd>-24470.2859044342</dd>\n",
       "</dl>\n"
      ],
      "text/plain": [
       "$param\n",
       "     alpha       beta \n",
       "0.05796592 0.32341340 \n",
       "\n",
       "$obj\n",
       "[1] -24470.29\n"
      ]
     },
     "metadata": {},
     "output_type": "display_data"
    },
    {
     "name": "stdout",
     "output_type": "stream",
     "text": [
      "[1] \"With 5 lags\"\n"
     ]
    },
    {
     "data": {
      "text/html": [
       "<dl>\n",
       "\t<dt>$param</dt>\n",
       "\t\t<dd><dl class=dl-horizontal>\n",
       "\t<dt>alpha</dt>\n",
       "\t\t<dd>0.0635357006220505</dd>\n",
       "\t<dt>beta</dt>\n",
       "\t\t<dd>0.346440745825995</dd>\n",
       "</dl>\n",
       "</dd>\n",
       "\t<dt>$obj</dt>\n",
       "\t\t<dd>-23895.7042556354</dd>\n",
       "</dl>\n"
      ],
      "text/plain": [
       "$param\n",
       "    alpha      beta \n",
       "0.0635357 0.3464407 \n",
       "\n",
       "$obj\n",
       "[1] -23895.7\n"
      ]
     },
     "metadata": {},
     "output_type": "display_data"
    }
   ],
   "source": [
    "print('With only 1 lag.')\n",
    "scalar.bekk.fit(as.matrix(y[,2:4]),\n",
    "                opts=list())[c('param','obj')]\n",
    "print('With 3 lags')\n",
    "scalar.bekk.fit(as.matrix(y[,2:4]),\n",
    "                opts=list(lags = 3))[c('param','obj')]\n",
    "print('With 5 lags')\n",
    "scalar.bekk.fit(as.matrix(y[,2:4]),\n",
    "                opts=list(lags = 5))[c('param','obj')]"
   ]
  },
  {
   "cell_type": "markdown",
   "metadata": {},
   "source": [
    "Fit model on a large amount of data and check performance with one lag"
   ]
  },
  {
   "cell_type": "code",
   "execution_count": 9,
   "metadata": {
    "collapsed": false
   },
   "outputs": [
    {
     "name": "stdout",
     "output_type": "stream",
     "text": [
      "[1] \"25 time-series with T=4025\"\n"
     ]
    },
    {
     "data": {
      "text/plain": [
       "   user  system elapsed \n",
       " 13.298   0.941  14.254 "
      ]
     },
     "metadata": {},
     "output_type": "display_data"
    },
    {
     "name": "stdout",
     "output_type": "stream",
     "text": [
      "[1] \"50 time-series with T=4025\"\n"
     ]
    },
    {
     "data": {
      "text/plain": [
       "   user  system elapsed \n",
       " 82.648   3.975  86.909 "
      ]
     },
     "metadata": {},
     "output_type": "display_data"
    },
    {
     "name": "stdout",
     "output_type": "stream",
     "text": [
      "[1] \"80 time-series with T=4026\"\n"
     ]
    },
    {
     "data": {
      "text/plain": [
       "   user  system elapsed \n",
       "391.913  17.854 408.662 "
      ]
     },
     "metadata": {},
     "output_type": "display_data"
    }
   ],
   "source": [
    "print(\"25 time-series with T=4025\")\n",
    "system.time(scalar.bekk.fit(as.matrix(y[,1:25]),opts=list(lags = 1))[c('param','obj')])\n",
    "print(\"50 time-series with T=4025\")\n",
    "system.time(scalar.bekk.fit(as.matrix(y[,1:50]),opts=list(lags = 1))[c('param','obj')])\n",
    "print(\"80 time-series with T=4026\")\n",
    "system.time(scalar.bekk.fit(as.matrix(y),opts=list(lags = 1))[c('param','obj')])"
   ]
  },
  {
   "cell_type": "markdown",
   "metadata": {},
   "source": [
    "Using more lags"
   ]
  },
  {
   "cell_type": "code",
   "execution_count": 10,
   "metadata": {
    "collapsed": false
   },
   "outputs": [
    {
     "name": "stdout",
     "output_type": "stream",
     "text": [
      "[1] \"25 time-series with T=4025 and three lags\"\n"
     ]
    },
    {
     "data": {
      "text/plain": [
       "   user  system elapsed \n",
       " 22.309   1.008  23.373 "
      ]
     },
     "metadata": {},
     "output_type": "display_data"
    },
    {
     "name": "stdout",
     "output_type": "stream",
     "text": [
      "[1] \"25 time-series with T=4025 and five lags\"\n"
     ]
    },
    {
     "data": {
      "text/plain": [
       "   user  system elapsed \n",
       " 33.669   0.938  34.645 "
      ]
     },
     "metadata": {},
     "output_type": "display_data"
    }
   ],
   "source": [
    "print(\"25 time-series with T=4025 and three lags\")\n",
    "system.time(scalar.bekk.fit(as.matrix(y[,1:25]),opts=list(lags = 3))[c('param','obj')])\n",
    "print(\"25 time-series with T=4025 and five lags\")\n",
    "system.time(scalar.bekk.fit(as.matrix(y[,1:25]),opts=list(lags = 5))[c('param','obj')])"
   ]
  },
  {
   "cell_type": "code",
   "execution_count": null,
   "metadata": {
    "collapsed": true
   },
   "outputs": [],
   "source": []
  }
 ],
 "metadata": {
  "kernelspec": {
   "display_name": "R",
   "language": "R",
   "name": "ir"
  },
  "language_info": {
   "codemirror_mode": "r",
   "file_extension": ".r",
   "mimetype": "text/x-r-source",
   "name": "R",
   "pygments_lexer": "r",
   "version": "3.3.1"
  }
 },
 "nbformat": 4,
 "nbformat_minor": 0
}
