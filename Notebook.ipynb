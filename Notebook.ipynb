{
 "cells": [
  {
   "cell_type": "markdown",
   "metadata": {},
   "source": [
    "# R/C Implementation of a Scalar Bekk Model\n",
    "> Moritz Degler, Lorenzo Pisati, Nandan Rao, Jonas Paul Westermann"
   ]
  },
  {
   "cell_type": "markdown",
   "metadata": {},
   "source": [
    "## Implementation Notes\n",
    "### Parameter convention:\n",
    "The model uses two parameters:\n",
    "* $\\alpha$: the factor of the lagged $y^2$\n",
    "* $\\beta$: the factor of the lagged sigma\n",
    "However, since the optimisation libraries only support box constraints, a trick must be used to keep not only $\\alpha$ and $\\beta$ between 0 and 1, but also $0 \\leq \\alpha+\\beta \\leq 1$. The way to do this, is to feed two parameters into the filter, $\\gamma$ and $\\lambda$ such that:\n",
    "$$\n",
    "\\alpha = (1-\\lambda) * \\gamma \\\\\n",
    "\\beta = (1-\\lambda) * (1 - \\gamma)\n",
    "$$\n",
    "and then we constrain these two parameters to $(0,1)$. This results in the overall step for an update looking as follows:\n",
    "$$\n",
    "S_t = \\lambda C + \\sum_{k=1}^K \\frac{\\alpha}{k} y_{t-k}y_{t-k}^{T} + \\frac{\\beta}{k} S_{t-k}\n",
    "$$"
   ]
  },
  {
   "cell_type": "markdown",
   "metadata": {},
   "source": [
    "### Sigma Initialisation\n",
    "$S_0$ is initialized at the unconditional covariance, so is $C$, the constant term in the model. "
   ]
  },
  {
   "cell_type": "markdown",
   "metadata": {},
   "source": [
    "### MLE\n",
    "MLE is used to compute the parameters, assuming in this case that the de-meaned returns (y) follow a multivariate normal distribution, with a covariance matrix that is predicted via the model. Because of this, one needs to both update the covariance matrix via the model and compute the individual likelihood of every observation (every t in T of the time-series dataset). Because of THIS, we decompose $S_t$ into its Cholesky Factorization, which we update for every t in T and use directly in the computation of the log likelihood (from the cholesky we have both a cheap inverse, via forward substitution, and a cheap determinant, via the diagonal). \n",
    "\n",
    "Given a cholesky decomposition, one can update the matrix directly as long as the update is the addition or subtraction of a rank-1 matrix. Clearly the $y_{t-k} y^T_{t-k} $ is a rank-1 matrix, as it is an outer product. This is the update used in a certain similar algorithm whose most noteworthy R implimentation is referred to as MEWMA. In order to make the most uniform API and usable abstractions for parameter updating across multiple models, including MEWMA, we utilize this rank-1 updating in this algorithm as well. To do so, we decompose $C$ into its Cholesky factorization, then use the outer-product of each column of the decomposition as a rank-1 update. This maintains the complexity of every loglikelihood calculation at every t in T being $O(N^3)$. "
   ]
  },
  {
   "cell_type": "markdown",
   "metadata": {},
   "source": [
    "## Examples"
   ]
  },
  {
   "cell_type": "code",
   "execution_count": 3,
   "metadata": {
    "collapsed": true
   },
   "outputs": [],
   "source": [
    "dyn.load('./C/bekk_log_lik.so')\n",
    "source('./R/bekk_model.R')"
   ]
  },
  {
   "cell_type": "code",
   "execution_count": 4,
   "metadata": {
    "collapsed": true
   },
   "outputs": [],
   "source": [
    "y <- read.csv('../ganter/data/Problemsets Data (Tickers)/all.csv')\n",
    "y <- apply(y,c(2),diff)\n",
    "y[is.na(y)] <- 0"
   ]
  },
  {
   "cell_type": "markdown",
   "metadata": {},
   "source": [
    "#### Single Filter Pass"
   ]
  },
  {
   "cell_type": "code",
   "execution_count": 1,
   "metadata": {
    "collapsed": false
   },
   "outputs": [
    {
     "ename": "ERROR",
     "evalue": "Error in eval(expr, envir, enclos): could not find function \"scalar.bekk.filter\"\n",
     "output_type": "error",
     "traceback": [
      "Error in eval(expr, envir, enclos): could not find function \"scalar.bekk.filter\"\nTraceback:\n"
     ]
    }
   ],
   "source": [
    "scalar.bekk.filter(as.matrix(y[1:10,2:4]),c(0.9,0.5),k=1)"
   ]
  },
  {
   "cell_type": "markdown",
   "metadata": {},
   "source": [
    "#### Different Lags"
   ]
  },
  {
   "cell_type": "code",
   "execution_count": 4,
   "metadata": {
    "collapsed": false
   },
   "outputs": [
    {
     "name": "stdout",
     "output_type": "stream",
     "text": [
      "[1] \"With only 1 lag.\"\n"
     ]
    },
    {
     "data": {
      "text/html": [
       "<dl>\n",
       "\t<dt>$param</dt>\n",
       "\t\t<dd><dl class=dl-horizontal>\n",
       "\t<dt>alpha</dt>\n",
       "\t\t<dd>0.0195936898315069</dd>\n",
       "\t<dt>beta</dt>\n",
       "\t\t<dd>0.103380520796255</dd>\n",
       "</dl>\n",
       "</dd>\n",
       "\t<dt>$obj</dt>\n",
       "\t\t<dd>-18695.4843795485</dd>\n",
       "</dl>\n"
      ],
      "text/plain": [
       "$param\n",
       "     alpha       beta \n",
       "0.01959369 0.10338052 \n",
       "\n",
       "$obj\n",
       "[1] -18695.48\n"
      ]
     },
     "metadata": {},
     "output_type": "display_data"
    },
    {
     "name": "stdout",
     "output_type": "stream",
     "text": [
      "[1] \"With 3 lags\"\n"
     ]
    },
    {
     "data": {
      "text/html": [
       "<dl>\n",
       "\t<dt>$param</dt>\n",
       "\t\t<dd><dl class=dl-horizontal>\n",
       "\t<dt>alpha</dt>\n",
       "\t\t<dd>0.0579659195799589</dd>\n",
       "\t<dt>beta</dt>\n",
       "\t\t<dd>0.323413397496665</dd>\n",
       "</dl>\n",
       "</dd>\n",
       "\t<dt>$obj</dt>\n",
       "\t\t<dd>-24470.2859044342</dd>\n",
       "</dl>\n"
      ],
      "text/plain": [
       "$param\n",
       "     alpha       beta \n",
       "0.05796592 0.32341340 \n",
       "\n",
       "$obj\n",
       "[1] -24470.29\n"
      ]
     },
     "metadata": {},
     "output_type": "display_data"
    },
    {
     "name": "stdout",
     "output_type": "stream",
     "text": [
      "[1] \"With 5 lags\"\n"
     ]
    },
    {
     "data": {
      "text/html": [
       "<dl>\n",
       "\t<dt>$param</dt>\n",
       "\t\t<dd><dl class=dl-horizontal>\n",
       "\t<dt>alpha</dt>\n",
       "\t\t<dd>0.0635357006220505</dd>\n",
       "\t<dt>beta</dt>\n",
       "\t\t<dd>0.346440745825995</dd>\n",
       "</dl>\n",
       "</dd>\n",
       "\t<dt>$obj</dt>\n",
       "\t\t<dd>-23895.7042556354</dd>\n",
       "</dl>\n"
      ],
      "text/plain": [
       "$param\n",
       "    alpha      beta \n",
       "0.0635357 0.3464407 \n",
       "\n",
       "$obj\n",
       "[1] -23895.7\n"
      ]
     },
     "metadata": {},
     "output_type": "display_data"
    }
   ],
   "source": [
    "print('With only 1 lag.')\n",
    "scalar.bekk.fit(as.matrix(y[,2:4]),\n",
    "                opts=list())[c('param','obj')]\n",
    "print('With 3 lags')\n",
    "scalar.bekk.fit(as.matrix(y[,2:4]),\n",
    "                opts=list(lags = 3))[c('param','obj')]\n",
    "print('With 5 lags')\n",
    "scalar.bekk.fit(as.matrix(y[,2:4]),\n",
    "                opts=list(lags = 5))[c('param','obj')]"
   ]
  },
  {
   "cell_type": "markdown",
   "metadata": {},
   "source": [
    "#### Large Dataset"
   ]
  },
  {
   "cell_type": "code",
   "execution_count": 9,
   "metadata": {
    "collapsed": false
   },
   "outputs": [
    {
     "name": "stdout",
     "output_type": "stream",
     "text": [
      "[1] \"25 time-series with T=4025\"\n"
     ]
    },
    {
     "data": {
      "text/plain": [
       "   user  system elapsed \n",
       " 13.298   0.941  14.254 "
      ]
     },
     "metadata": {},
     "output_type": "display_data"
    },
    {
     "name": "stdout",
     "output_type": "stream",
     "text": [
      "[1] \"50 time-series with T=4025\"\n"
     ]
    },
    {
     "data": {
      "text/plain": [
       "   user  system elapsed \n",
       " 82.648   3.975  86.909 "
      ]
     },
     "metadata": {},
     "output_type": "display_data"
    },
    {
     "name": "stdout",
     "output_type": "stream",
     "text": [
      "[1] \"80 time-series with T=4026\"\n"
     ]
    },
    {
     "data": {
      "text/plain": [
       "   user  system elapsed \n",
       "391.913  17.854 408.662 "
      ]
     },
     "metadata": {},
     "output_type": "display_data"
    }
   ],
   "source": [
    "print(\"25 time-series with T=4025\")\n",
    "system.time(scalar.bekk.fit(as.matrix(y[,1:25]),opts=list(lags = 1))[c('param','obj')])\n",
    "print(\"50 time-series with T=4025\")\n",
    "system.time(scalar.bekk.fit(as.matrix(y[,1:50]),opts=list(lags = 1))[c('param','obj')])\n",
    "print(\"80 time-series with T=4026\")\n",
    "system.time(scalar.bekk.fit(as.matrix(y),opts=list(lags = 1))[c('param','obj')])"
   ]
  },
  {
   "cell_type": "markdown",
   "metadata": {},
   "source": [
    "#### Large Data and more Lags"
   ]
  },
  {
   "cell_type": "code",
   "execution_count": 10,
   "metadata": {
    "collapsed": false
   },
   "outputs": [
    {
     "name": "stdout",
     "output_type": "stream",
     "text": [
      "[1] \"25 time-series with T=4025 and three lags\"\n"
     ]
    },
    {
     "data": {
      "text/plain": [
       "   user  system elapsed \n",
       " 22.309   1.008  23.373 "
      ]
     },
     "metadata": {},
     "output_type": "display_data"
    },
    {
     "name": "stdout",
     "output_type": "stream",
     "text": [
      "[1] \"25 time-series with T=4025 and five lags\"\n"
     ]
    },
    {
     "data": {
      "text/plain": [
       "   user  system elapsed \n",
       " 33.669   0.938  34.645 "
      ]
     },
     "metadata": {},
     "output_type": "display_data"
    }
   ],
   "source": [
    "print(\"25 time-series with T=4025 and three lags\")\n",
    "system.time(scalar.bekk.fit(as.matrix(y[,1:25]),opts=list(lags = 3))[c('param','obj')])\n",
    "print(\"25 time-series with T=4025 and five lags\")\n",
    "system.time(scalar.bekk.fit(as.matrix(y[,1:25]),opts=list(lags = 5))[c('param','obj')])"
   ]
  },
  {
   "cell_type": "markdown",
   "metadata": {
    "collapsed": true
   },
   "source": [
    "#### Alternate Optimisation Library"
   ]
  },
  {
   "cell_type": "code",
   "execution_count": 5,
   "metadata": {
    "collapsed": false
   },
   "outputs": [
    {
     "name": "stdout",
     "output_type": "stream",
     "text": [
      "[1] \"25 time-series with T=4025 and three lags and using nlminb\"\n"
     ]
    },
    {
     "name": "stderr",
     "output_type": "stream",
     "text": [
      "Warning message in nlminb(param.init, obj, lower = 0, upper = 1, k = lags):\n",
      "“NA/NaN function evaluation”"
     ]
    },
    {
     "data": {
      "text/plain": [
       "   user  system elapsed \n",
       " 36.740   1.484  39.245 "
      ]
     },
     "metadata": {},
     "output_type": "display_data"
    }
   ],
   "source": [
    "print(\"25 time-series with T=4025 and three lags and using nlminb\")\n",
    "system.time(scalar.bekk.fit(as.matrix(y[,1:25]),opts=list(lags = 3, optim.lib=\"nlminb\"))[c('param','obj')])"
   ]
  }
 ],
 "metadata": {
  "kernelspec": {
   "display_name": "R",
   "language": "R",
   "name": "ir"
  },
  "language_info": {
   "codemirror_mode": "r",
   "file_extension": ".r",
   "mimetype": "text/x-r-source",
   "name": "R",
   "pygments_lexer": "r",
   "version": "3.3.2"
  }
 },
 "nbformat": 4,
 "nbformat_minor": 0
}
